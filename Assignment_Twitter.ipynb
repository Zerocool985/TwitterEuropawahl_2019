{
 "cells": [
  {
   "cell_type": "markdown",
   "metadata": {
    "toc": true
   },
   "source": [
    "<h1>Table of Contents<span class=\"tocSkip\"></span></h1>\n",
    "<div class=\"toc\"><ul class=\"toc-item\"></ul></div>"
   ]
  },
  {
   "cell_type": "markdown",
   "metadata": {},
   "source": [
    "# Tweepy "
   ]
  },
  {
   "cell_type": "code",
   "execution_count": null,
   "metadata": {},
   "outputs": [],
   "source": [
    "!pip install tweepy\n",
    "!pip install google-cloud-bigquery"
   ]
  },
  {
   "cell_type": "code",
   "execution_count": null,
   "metadata": {},
   "outputs": [],
   "source": [
    "import tweepy\n",
    "import pandas as pd\n",
    "import numpy as np\n",
    "import matplotlib.pyplot as plt\n",
    "from google.cloud import bigquery\n",
    "\n",
    "\n",
    "%matplotlib inline"
   ]
  },
  {
   "cell_type": "code",
   "execution_count": null,
   "metadata": {},
   "outputs": [],
   "source": [
    "CONSUMER_KEY = '",
    "CONSUMER_SECRET = ''\n",
    "OAUTH_TOKEN = ''\n",
    "OAUTH_TOKEN_SECRET = ''\n",
    "\n",
    "auth = tweepy.OAuthHandler(CONSUMER_KEY, CONSUMER_SECRET)\n",
    "auth.set_access_token(OAUTH_TOKEN, OAUTH_TOKEN_SECRET)\n",
    "\n",
    "api = tweepy.API(auth)"
   ]
  },
  {
   "cell_type": "code",
   "execution_count": null,
   "metadata": {},
   "outputs": [],
   "source": [
    "import tweepy\n",
    "import time\n",
    "import json\n",
    "#override tweepy.StreamListener to add logic to on_status\n",
    "class MyStreamListener(tweepy.StreamListener):\n",
    "\n",
    "    def on_status(self, status):\n",
    "        #print(status.extended_tweet.full_text)\n",
    "        test=test\n",
    "\n",
    "        \n",
    "    def on_data(self, data):\n",
    "        all_data = json.loads(data)\n",
    "        if 'text' in all_data:\n",
    "            tweetid=all_data[\"id\"]\n",
    "            tweet         = all_data[\"text\"]\n",
    "            created_at    = all_data[\"created_at\"]\n",
    "            retweeted     = all_data[\"retweeted\"]\n",
    "            userid      = all_data[\"user\"][\"id\"]\n",
    "            username      = all_data[\"user\"][\"screen_name\"]\n",
    "            userpage      = all_data[\"user\"][\"url\"]\n",
    "            user_followers       = all_data[\"user\"][\"followers_count\"]\n",
    "            user_location = all_data[\"user\"][\"location\"]\n",
    "            user_coordinates = all_data[\"coordinates\"]\n",
    "            user_friends = all_data[\"user\"][\"friends_count\"]\n",
    "            user_statuscount = all_data[\"user\"][\"statuses_count\"]\n",
    "            user_createdat = all_data[\"user\"][\"created_at\"]\n",
    "            quote_count=all_data[\"quote_count\"]\n",
    "            reply_count=all_data[\"reply_count\"]\n",
    "            retweet_count=all_data[\"retweet_count\"]\n",
    "            favourite_count=all_data[\"favorite_count\"]\n",
    "            \n",
    "            retweetedText=\"none\"\n",
    "            retweetedStatus=\"none\"\n",
    "            tweetfull=\"none\"\n",
    "            if \"retweeted_status\" in all_data:\n",
    "                if \"extended_tweet\" in all_data[\"retweeted_status\"]:\n",
    "                    retweetedText= all_data[\"retweeted_status\"][\"extended_tweet\"][\"full_text\"]\n",
    "                    retweetedStatus=\"true\"\n",
    "                    #print(retweetedText)\n",
    "\n",
    "            \n",
    "            if \"extended_tweet\" in all_data:\n",
    "                tweetfull=all_data[\"extended_tweet\"][\"full_text\"]\n",
    "                #print(tweetfull)\n",
    "                \n",
    "            writeToGBQ(str(tweetid),str(created_at), str(retweeted), str(userid), str(username), str(userpage),\\\n",
    "                       str(user_followers), str(user_location), str(user_coordinates), str(user_friends), str(user_statuscount),\\\n",
    "                       str(user_createdat), str(quote_count), str(reply_count),\\\n",
    "                       str(retweet_count), str(favourite_count), str(retweetedText),str(retweetedStatus),str(tweetfull),\\\n",
    "                       str(tweet))\n",
    "              \n",
    "    def on_error(self, status_code):\n",
    "        if status_code == 420:\n",
    "            time.sleep(120)\n",
    "            print(\"StatusCode420\")\n",
    "            #returning False in on_data disconnects the stream\n",
    "            return False"
   ]
  },
  {
   "cell_type": "code",
   "execution_count": 2,
   "metadata": {},
   "outputs": [],
   "source": [
    "def writeToGBQ(tweetid,created_at, retweeted, userid, username, userpage, user_followers, user_location, user_coordinates,\\\n",
    "               user_friends, user_statuscount, user_createdat, quote_count, reply_count, retweet_count,\\\n",
    "               favourite_count, retweetedText, retweetedStatus, tweetfull, tweet):\n",
    "    #client = bigquery.Client()\n",
    "    client = bigquery.Client.from_service_account_json('M11-Assignment-5b1de712e662.json')\n",
    "    dataset_id = 'EuropawahlTweets'  # replace with your dataset ID\n",
    "    #For this sample, the table must already exist and have a defined schema\n",
    "    table_id = 'stream'  # replace with your table ID\n",
    "    table_ref = client.dataset(dataset_id).table(table_id)\n",
    "    table = client.get_table(table_ref)  # API request\n",
    "\n",
    "    rows_to_insert = [\n",
    "        (tweetid,created_at, retweeted, userid, username, userpage, user_followers, user_location, user_coordinates,\\\n",
    "               user_friends, user_statuscount, user_createdat, quote_count, reply_count, retweet_count,\\\n",
    "               favourite_count, retweetedText, retweetedStatus, tweetfull, tweet),\n",
    "    ]\n",
    "\n",
    "    errors = client.insert_rows(table, rows_to_insert)  # API request\n",
    "\n",
    "    assert errors == []"
   ]
  },
  {
   "cell_type": "code",
   "execution_count": null,
   "metadata": {},
   "outputs": [],
   "source": [
    "myStreamListener = MyStreamListener()\n",
    "myStream = tweepy.Stream(auth = api.auth, listener=myStreamListener, tweet_mode='extended')"
   ]
  },
  {
   "cell_type": "code",
   "execution_count": null,
   "metadata": {},
   "outputs": [],
   "source": [
    "list_users = ['832097871893770240','743724264', '16705726', '4097559143', '828623998921629696', '20399735', '20463983', '710201540116652033']"
   ]
  },
  {
   "cell_type": "code",
   "execution_count": null,
   "metadata": {
    "scrolled": true
   },
   "outputs": [],
   "source": [
    "myStream.filter(track=['Europawahl'],follow=list_users, is_async=True)"
   ]
  },
  {
   "cell_type": "code",
   "execution_count": null,
   "metadata": {
    "scrolled": true
   },
   "outputs": [],
   "source": []
  },
  {
   "cell_type": "code",
   "execution_count": null,
   "metadata": {},
   "outputs": [],
   "source": []
  },
  {
   "cell_type": "code",
   "execution_count": null,
   "metadata": {},
   "outputs": [],
   "source": [
    "# TODO(developer): Uncomment the lines below and replace with your values.\n",
    "\n",
    "\n"
   ]
  },
  {
   "cell_type": "code",
   "execution_count": null,
   "metadata": {},
   "outputs": [],
   "source": []
  }
 ],
 "metadata": {
  "kernelspec": {
   "display_name": "Python 3",
   "language": "python",
   "name": "python3"
  },
  "language_info": {
   "codemirror_mode": {
    "name": "ipython",
    "version": 3
   },
   "file_extension": ".py",
   "mimetype": "text/x-python",
   "name": "python",
   "nbconvert_exporter": "python",
   "pygments_lexer": "ipython3",
   "version": "3.6.8"
  },
  "toc": {
   "base_numbering": 1,
   "nav_menu": {},
   "number_sections": true,
   "sideBar": true,
   "skip_h1_title": true,
   "title_cell": "Table of Contents",
   "title_sidebar": "Contents",
   "toc_cell": true,
   "toc_position": {},
   "toc_section_display": true,
   "toc_window_display": true
  },
  "varInspector": {
   "cols": {
    "lenName": 16,
    "lenType": 16,
    "lenVar": 40
   },
   "kernels_config": {
    "python": {
     "delete_cmd_postfix": "",
     "delete_cmd_prefix": "del ",
     "library": "var_list.py",
     "varRefreshCmd": "print(var_dic_list())"
    },
    "r": {
     "delete_cmd_postfix": ") ",
     "delete_cmd_prefix": "rm(",
     "library": "var_list.r",
     "varRefreshCmd": "cat(var_dic_list()) "
    }
   },
   "types_to_exclude": [
    "module",
    "function",
    "builtin_function_or_method",
    "instance",
    "_Feature"
   ],
   "window_display": false
  }
 },
 "nbformat": 4,
 "nbformat_minor": 2
}
